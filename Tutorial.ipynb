{
 "cells": [
  {
   "cell_type": "markdown",
   "metadata": {},
   "source": [
    "<a id=\"0\"></a>\n",
    "# Python Kurs\n",
    "Dies ist ein Erstentwurf für den angestrebten Python Kurs. Im ersten Durchgang wird der Fokus auf die Basics gelegt. Im zweiten Durchgang bin ich flexibel. Besonders interessant fände ich die Sektion \"Python für Naturwissenschaftler\". DataScience / Machine Learning und Webtechnologien sind große, zeitintensive Themen. Eventuell interessant für die Zukunft, aber vermutlich nicht für den Anfängerkurs."
   ]
  },
  {
   "cell_type": "markdown",
   "metadata": {},
   "source": [
    "# Übersicht\n",
    "## Vorwort - vor der Programmierung\n",
    "* [Warum Python](#1)\n",
    "* [Welche Zielgruppe ist Python?](#2)\n",
    "* [Was ist eigentlich ein Programm?](#3)\n",
    "\n",
    "## Vorbereitung - für die Programmierung\n",
    "* [Python Download & Installation](#4)\n",
    "* [Installation von Jupyter Notebook](#5)\n",
    "* [Texteditor und Einrichtung](#6)\n",
    "\n",
    "## Basics\n",
    "* [Erstes Programm: Hallo Welt!](#7)\n",
    "* * [Allgemeine Ausgabefunktion](#7_1)\n",
    "* [Variablen und Datentypen](#8)\n",
    "* * [Zahlen](#8_1)\n",
    "* [If / Else Abfragen](#9)\n",
    "* [Listen](#10)\n",
    "* [Dictionaries](#11)\n",
    "* [Schleifen](#12)\n",
    "* [Funktionen](#13)\n",
    "* [Klassen und Methoden](#14)\n",
    "\n",
    "## Zusatz\n",
    "* [Numpy](#15)\n",
    "* [Pandas](#16)\n",
    "* [Visualisierung von Daten](#16)"
   ]
  },
  {
   "cell_type": "markdown",
   "metadata": {},
   "source": [
    "<a id=\"7\"></a>\n",
    "# Erstes Programm: Hallo Welt!\n",
    "Als erstes kleine Programm der Klassiker: Die Ausgabe des Satzes \"Hallo Welt!\".\n",
    "Im weiteren wird sich um die generelle Ausgabefunktion."
   ]
  },
  {
   "cell_type": "code",
   "execution_count": 1,
   "metadata": {},
   "outputs": [
    {
     "name": "stdout",
     "output_type": "stream",
     "text": [
      "Hallo Welt!\n"
     ]
    }
   ],
   "source": [
    "print(\"Hallo Welt!\")"
   ]
  },
  {
   "cell_type": "markdown",
   "metadata": {},
   "source": [
    "<a id=\"7_1\"></a>\n",
    "## Allgemeine Ausgabefunktion\n",
    "Die Allgemeine Ausgabefunktion in Python lautet print. Alles was im print steht, wird in der Konsole sichtbar. Prints werden Zeilenweise ausgeführt."
   ]
  },
  {
   "cell_type": "code",
   "execution_count": 2,
   "metadata": {},
   "outputs": [
    {
     "name": "stdout",
     "output_type": "stream",
     "text": [
      "Hier steht ein Text!\n",
      "Hier ist noch ein Text!\n"
     ]
    }
   ],
   "source": [
    "print(\"Hier steht ein Text!\")\n",
    "print(\"Hier ist noch ein Text!\")"
   ]
  },
  {
   "cell_type": "markdown",
   "metadata": {},
   "source": [
    "Man kann auch mehrere Zeilen in einen print packen. Anführungszeichen und andere Sonderzeichen sind u.a. mit Backslashes hinzuzufügen."
   ]
  },
  {
   "cell_type": "code",
   "execution_count": 3,
   "metadata": {},
   "outputs": [
    {
     "name": "stdout",
     "output_type": "stream",
     "text": [
      "Hier ist ein Text \n",
      " in zwei Zeilen.\n"
     ]
    }
   ],
   "source": [
    "print(\"Hier ist ein Text \\n in zwei Zeilen.\")"
   ]
  },
  {
   "cell_type": "code",
   "execution_count": 4,
   "metadata": {},
   "outputs": [
    {
     "name": "stdout",
     "output_type": "stream",
     "text": [
      "Einstein sagte einst \"Phantasie ist wichtiger als Wissen.\"\n",
      "Einstein sagte einst: \"Phantasie ist wichtiger als wissen.\"\n"
     ]
    }
   ],
   "source": [
    "print(\"Einstein sagte einst \\\"Phantasie ist wichtiger als Wissen.\\\"\")\n",
    "print('Einstein sagte einst: \"Phantasie ist wichtiger als wissen.\"')"
   ]
  },
  {
   "cell_type": "code",
   "execution_count": 5,
   "metadata": {},
   "outputs": [
    {
     "name": "stdout",
     "output_type": "stream",
     "text": [
      "Hier ist ein \t TAB.\n"
     ]
    }
   ],
   "source": [
    "print(\"Hier ist ein \\t TAB.\")"
   ]
  },
  {
   "cell_type": "markdown",
   "metadata": {},
   "source": [
    "* [Zum Menü](#0)"
   ]
  },
  {
   "cell_type": "markdown",
   "metadata": {},
   "source": [
    "<a id=\"8\"></a>\n",
    "# Variablen und Datentypen"
   ]
  },
  {
   "cell_type": "markdown",
   "metadata": {},
   "source": [
    "<a id = \"8_1\"></a>\n",
    "## Zahlen\n",
    "Python3 unterscheidet nicht zwischen ganzen Zahlen oder Dezimalzahlen. Es gibt Bibliotheken die die Genauigkeit von Zahlen erhöhen (z.B. Brüche)"
   ]
  },
  {
   "cell_type": "code",
   "execution_count": 6,
   "metadata": {},
   "outputs": [
    {
     "name": "stdout",
     "output_type": "stream",
     "text": [
      "2\n"
     ]
    }
   ],
   "source": [
    "a = 2\n",
    "print(a)"
   ]
  },
  {
   "cell_type": "markdown",
   "metadata": {},
   "source": [
    "Wird eine Variable mehrfach definiert, gilt die letzte Ausgabe."
   ]
  },
  {
   "cell_type": "code",
   "execution_count": 7,
   "metadata": {},
   "outputs": [
    {
     "name": "stdout",
     "output_type": "stream",
     "text": [
      "19\n"
     ]
    }
   ],
   "source": [
    "Zahl = 7\n",
    "Zahl = 19\n",
    "print(Zahl)"
   ]
  },
  {
   "cell_type": "markdown",
   "metadata": {},
   "source": [
    "In Python müssen Dezimalzahlen oder Rationale Zahlen nicht besonders typisiert werden. Die Nachkommastellen sind mit einem Punkt von den führenden Zahlen zu trennen."
   ]
  },
  {
   "cell_type": "code",
   "execution_count": 8,
   "metadata": {},
   "outputs": [
    {
     "name": "stdout",
     "output_type": "stream",
     "text": [
      "1.325\n",
      "0.3333333333333333\n"
     ]
    }
   ],
   "source": [
    "decimal = 1.325\n",
    "rational = 1/3\n",
    "print(decimal)\n",
    "print(rational)"
   ]
  },
  {
   "cell_type": "markdown",
   "metadata": {},
   "source": [
    "* [Zum Menü](#0)"
   ]
  },
  {
   "cell_type": "markdown",
   "metadata": {},
   "source": [
    "<a id=\"8_2\"></a>\n",
    "## Rechnen in Python"
   ]
  },
  {
   "cell_type": "markdown",
   "metadata": {},
   "source": [
    "### Rechnen mit Zahlen\n",
    "Es gelten gewöhnliche Rechentheoreme: Klammer- vor Punkt- vor Strichrechnung.\n",
    "\n",
    "Rechenzeichen:\n",
    "* +: Addition\n",
    "* -: Subtraktion\n",
    "* *: Multiplikation\n",
    "* /: Division"
   ]
  },
  {
   "cell_type": "code",
   "execution_count": 9,
   "metadata": {},
   "outputs": [
    {
     "name": "stdout",
     "output_type": "stream",
     "text": [
      "8\n",
      "4\n",
      "12\n",
      "3.0\n",
      "0.3333333333333333\n"
     ]
    }
   ],
   "source": [
    "# Variablen deklarieren\n",
    "a = 6\n",
    "b = 2\n",
    "\n",
    "# Rechnungen\n",
    "result_addition = a + b\n",
    "result_subtraction = a - b\n",
    "result_multiplication = a * b\n",
    "result_division1 = a / b\n",
    "result_division2 = b / a\n",
    "\n",
    "# Ausgabe\n",
    "print(result_addition)\n",
    "print(result_subtraction)\n",
    "print(result_multiplication)\n",
    "print(result_division1)\n",
    "print(result_division2)"
   ]
  },
  {
   "cell_type": "markdown",
   "metadata": {},
   "source": [
    "#### Einschub: Typensicherheit (Teil 1)\n",
    "Python ist in Sachen Typensicherheit sehr frei. Neben Vorteilen in der Entwicklungsgeschwindigkeit bringt das jedoch auch Nachteile mit sich. Im Gegensatz von anderen Programmiersprachen unterscheidet Python im wesentlichen zwischen folgende Datentypen:\n",
    "* Integer (int): Ganze Zahl\n",
    "* Float (float): Kommazahl\n",
    "* Complex: Komplexe Zahl\n",
    "* String: Zeichenkette\n",
    "* Bool: Wahr / Falsch\n",
    "\n",
    "Zur Überprüfung des Datentyps ist die Funktion type() standardmäßig implementiert. Weiteres zum Thema Funkionen folgt im Kapitel \"Funktionen\""
   ]
  },
  {
   "cell_type": "code",
   "execution_count": 10,
   "metadata": {},
   "outputs": [
    {
     "name": "stdout",
     "output_type": "stream",
     "text": [
      "<class 'int'>\n",
      "<class 'int'>\n",
      "<class 'int'>\n",
      "<class 'float'>\n",
      "<class 'float'>\n"
     ]
    }
   ],
   "source": [
    "type_addition = type(result_addition)\n",
    "type_subtrytion = type(result_subtraction)\n",
    "type_multiplication = type(result_multiplication)\n",
    "type_division1 = type(result_division1)\n",
    "type_division2 = type(result_division2)\n",
    "\n",
    "print(type_addition)\n",
    "print(type_subtrytion)\n",
    "print(type_multiplication)\n",
    "print(type_division1)\n",
    "print(type_division2)"
   ]
  },
  {
   "cell_type": "markdown",
   "metadata": {},
   "source": [
    "### Rechnen mit Zeichenketten"
   ]
  },
  {
   "cell_type": "code",
   "execution_count": 11,
   "metadata": {},
   "outputs": [
    {
     "name": "stdout",
     "output_type": "stream",
     "text": [
      "Hallo und herzlich willkommen im Kurs!In diesem Kurs bringe ich dir die Grundlagen der Programmiersprache Python bei.Ich wünsche dir viel Spaß.\n",
      "\n",
      "\n",
      "Hallo und herzlich willkommen im Kurs!\n",
      "In diesem Kurs bringe ich dir die Grundlagen der Programmiersprache Python bei.\n",
      "Ich wünsche dir viel Spaß.\n",
      "\n"
     ]
    }
   ],
   "source": [
    "hello_string = \"Hallo und herzlich willkommen im Kurs!\"\n",
    "info_string = \"In diesem Kurs bringe ich dir die Grundlagen der Programmiersprache Python bei.\"\n",
    "bye_string = \"Ich wünsche dir viel Spaß.\"\n",
    "\n",
    "out1 = hello_string + info_string + bye_string\n",
    "out2 = \"\\n\\n\" + hello_string + \"\\n\" + info_string + \"\\n\" + bye_string + \"\\n\"\n",
    "\n",
    "print(out1)\n",
    "print(out2)"
   ]
  },
  {
   "cell_type": "markdown",
   "metadata": {},
   "source": [
    "Im Beispiel der Basicrechnungen war die Sprachausgabe Rückwirkend recht unübersichtlich. Um diese Übersichtlicher zu gestalten und Zeilenumbrüche zu vermeiden, kann man die Sprachausgabe entsprechend erweitern."
   ]
  },
  {
   "cell_type": "code",
   "execution_count": 12,
   "metadata": {},
   "outputs": [
    {
     "name": "stdout",
     "output_type": "stream",
     "text": [
      "Das Ergebnis der Rechung 6 + 2 ist gleich 8\n",
      "Das Ergebnis der Rechung 6 - 2 ist gleich 4\n",
      "Das Ergebnis der Rechung 6 * 2 ist gleich 12\n",
      "Das Ergebnis der Rechung 6 / 2 ist gleich 3.0\n"
     ]
    }
   ],
   "source": [
    "print(\"Das Ergebnis der Rechung \" + str(a) + \" + \" + str(b) + \" ist gleich \" + str(result_addition))\n",
    "print(\"Das Ergebnis der Rechung \" + str(a) + \" - \" + str(b) + \" ist gleich \" + str(result_subtraction))\n",
    "print(\"Das Ergebnis der Rechung \" + str(a) + \" * \" + str(b) + \" ist gleich \" + str(result_multiplication))\n",
    "print(\"Das Ergebnis der Rechung \" + str(a) + \" / \" + str(b) + \" ist gleich \" + str(result_division1))"
   ]
  },
  {
   "cell_type": "markdown",
   "metadata": {},
   "source": [
    "* [Zum Menü](#0)"
   ]
  },
  {
   "cell_type": "markdown",
   "metadata": {},
   "source": [
    "#### Manipulieren der Sprachausgabe\n",
    "* Der Klassische Weg: Modulo\n",
    "* Der Python Weg: format()\n",
    "Um die Datentypen nicht in einen String formatieren zu müssen und die Sprachausgabe generell leserlicher zu gestalten, gibt es zwei einfache Möglichkeiten die Sprachausgabe zu erweitern."
   ]
  },
  {
   "cell_type": "code",
   "execution_count": 13,
   "metadata": {},
   "outputs": [
    {
     "name": "stdout",
     "output_type": "stream",
     "text": [
      "Das ein unerwartetes Ergebnis der zuvor durchgeführten Rechung: 2 / 6 = 0\n",
      "Aber natürlich liegt es am Datentypen: 2 / 6 = 0.333333\n",
      "Für die konsequenten Verweigerer von Typensicherheit, gibt es noch dir Format Methode: 2 / 6 = 0.3333333333333333\n"
     ]
    }
   ],
   "source": [
    "print(\"Das ein unerwartetes Ergebnis der zuvor durchgeführten Rechung: %i / %i = %i\" % (b,a,result_division2))\n",
    "print(\"Aber natürlich liegt es am Datentypen: %i / %i = %f\" % (b,a,result_division2))\n",
    "print(\"Für die konsequenten Verweigerer von Typensicherheit, gibt es noch dir Format Methode: {} / {} = {}\".format(b,a,result_division2))"
   ]
  },
  {
   "cell_type": "markdown",
   "metadata": {},
   "source": [
    "* [Zum Menü](#0)"
   ]
  },
  {
   "cell_type": "markdown",
   "metadata": {},
   "source": [
    "### Beispielprojekt 1\n",
    "Lege die Variablen name, age, town fest und schreibe einen kleinen Vorstellungstext als Additionsergebnis, oder alternativ auch mithilfe der Modulo- oder Formatmethode."
   ]
  },
  {
   "cell_type": "code",
   "execution_count": 1,
   "metadata": {},
   "outputs": [
    {
     "name": "stdout",
     "output_type": "stream",
     "text": [
      "Hallo, ich heiße Janis, bin 26 Jahre alt und komme aus Wuppertal.\n",
      "Hallo, ich heiße Janis, bin 26 Jahre alt und komme aus Wuppertal.\n",
      "Hallo, ich heiße Janis, bin 26 Jahre alt und komme aus Wuppertal.\n"
     ]
    }
   ],
   "source": [
    "name = \"Janis\"\n",
    "age = 26\n",
    "town = \"Wuppertal\"\n",
    "\n",
    "print(\"Hallo, ich heiße \"+name+\", bin \"+str(age)+\" Jahre alt und komme aus \" + town + \".\")\n",
    "print(\"Hallo, ich heiße %s, bin %i Jahre alt und komme aus %s.\"%(name,age,town))\n",
    "print(\"Hallo, ich heiße {}, bin {} Jahre alt und komme aus {}.\".format(name,age,town))"
   ]
  },
  {
   "cell_type": "markdown",
   "metadata": {},
   "source": [
    "[Zum Menü](#0)"
   ]
  },
  {
   "cell_type": "markdown",
   "metadata": {},
   "source": [
    "### Beispielprojekt 2\n",
    "Deklariere die Variable a = -2 und berechne für sie Quadratzahl und Wurzel. Gib anstelle des Ergebnisses den Typen dieser Variable aus."
   ]
  },
  {
   "cell_type": "code",
   "execution_count": 15,
   "metadata": {},
   "outputs": [
    {
     "name": "stdout",
     "output_type": "stream",
     "text": [
      "Der Typ des Quadrats der Zahl a: int\n",
      "Der Typ der Wurzel der Zahl a: complex\n"
     ]
    }
   ],
   "source": [
    "a = -5\n",
    "\n",
    "print(\"Der Typ des Quadrats der Zahl a: {}\".format(type(a**2).__name__))\n",
    "print(\"Der Typ der Wurzel der Zahl a: {}\".format(type(a**0.5).__name__))"
   ]
  },
  {
   "cell_type": "markdown",
   "metadata": {},
   "source": [
    "[Zum Menü](#0)"
   ]
  },
  {
   "cell_type": "markdown",
   "metadata": {},
   "source": [
    "### Übungsaufgabe 1 - Leicht\n",
    "Folgende Ausgabe ist das Ziel:\n",
    "\"Ein PKW mit dem Kennzeichen A:BC:1234 legt in 2 Stunden eine Strecke von 260 km zurück. Damit fährt er eine Durchschnittliche Geschwindigkeit von 130 km/h.\"\n",
    "Hierzu sollen die Variablen sign (Kennzeichenstring), time (Dauer), distance (Strecke), speed = Strecke / Zeit"
   ]
  },
  {
   "cell_type": "code",
   "execution_count": 16,
   "metadata": {},
   "outputs": [
    {
     "name": "stdout",
     "output_type": "stream",
     "text": [
      "Ein PKW mit dem Kennzeichen A:BC:1234 legt in 2 Stunden eine Strecke von 260 km zurück.\n",
      "Damit fährt er eine Durchschnittliche Geschwindigkeit von 130.0 km/h.\n"
     ]
    }
   ],
   "source": [
    "sign = \"A:BC:1234\"\n",
    "time, distance = 2, 260\n",
    "speed = distance / time\n",
    "\n",
    "print(\"Ein PKW mit dem Kennzeichen {} legt in {} Stunden eine Strecke von {} km zurück.\\n\" \n",
    "    \"Damit fährt er eine Durchschnittliche Geschwindigkeit von {} km/h.\" . format(sign,time,distance,speed))"
   ]
  },
  {
   "cell_type": "markdown",
   "metadata": {},
   "source": [
    "[Zum Menü](#0)"
   ]
  },
  {
   "cell_type": "markdown",
   "metadata": {},
   "source": [
    "# if- else\n",
    "if else Strukturen sind \"einfache\" wenn ... dann ... Strukturen und können beliebig verschachtelt werden. Im wesentlichen legt man mithilfe dieser Strukturen Entscheidungen im Programmablauf fest."
   ]
  },
  {
   "cell_type": "markdown",
   "metadata": {},
   "source": [
    "## Datentyp: Bool\n",
    "Ein Bool gibt entweder wahr oder falsch aus. Das ist einer der elementarsten Datentypen für eine if - else Struktur.\n",
    "\n",
    "Boolsche Operatoren werden in Python groß geschrieben"
   ]
  },
  {
   "cell_type": "code",
   "execution_count": 17,
   "metadata": {},
   "outputs": [
    {
     "name": "stdout",
     "output_type": "stream",
     "text": [
      "Ausgabe a: True, Ausgabe b: False.\n"
     ]
    }
   ],
   "source": [
    "a = True\n",
    "b = False\n",
    "\n",
    "print(\"Ausgabe a: {}, Ausgabe b: {}.\".format(a,b))"
   ]
  },
  {
   "cell_type": "code",
   "execution_count": 18,
   "metadata": {},
   "outputs": [
    {
     "name": "stdout",
     "output_type": "stream",
     "text": [
      "Der angegebene Name lautet Janis\n"
     ]
    }
   ],
   "source": [
    "name = \"Janis\"\n",
    "if not name:\n",
    "    print(\"Kein Name angegeben.\")\n",
    "else:\n",
    "    print(\"Der angegebene Name lautet {}\".format(name))"
   ]
  },
  {
   "cell_type": "markdown",
   "metadata": {},
   "source": [
    "[Zum Menü](#0)"
   ]
  },
  {
   "cell_type": "markdown",
   "metadata": {},
   "source": [
    "### und / oder\n",
    "Neben Wenn / Dann, Wahr / Falsch gibt es noch und / oder. Wenn die \"und\" Bedingung gilt, tritt der Zweig erst ein, wenn allte Teilbedingungen erfüllt sind, für den oder Operator genügt eine."
   ]
  },
  {
   "cell_type": "code",
   "execution_count": 19,
   "metadata": {},
   "outputs": [
    {
     "name": "stdout",
     "output_type": "stream",
     "text": [
      "nur a ist wahr.\n"
     ]
    }
   ],
   "source": [
    "a = True\n",
    "b = False\n",
    "\n",
    "if a and b:\n",
    "    print(\"beide wahr!\")\n",
    "elif a and not b:\n",
    "    print(\"nur a ist wahr.\")\n",
    "elif not a and b:\n",
    "    print(\"nur b ist wahr.\")\n",
    "else:\n",
    "    print(\"beides falsch.\")"
   ]
  },
  {
   "cell_type": "code",
   "execution_count": 20,
   "metadata": {},
   "outputs": [
    {
     "name": "stdout",
     "output_type": "stream",
     "text": [
      "Eins oder beide wahr!\n"
     ]
    }
   ],
   "source": [
    "if a or b:\n",
    "    print(\"Eins oder beide wahr!\")\n",
    "elif a or not b:\n",
    "    print(\"Auch hier werden beide Bedingungen erfüllt.\")\n",
    "elif not a or b:\n",
    "    print(\"Hier gibt die Funktion ein falsch zurück.\")\n",
    "else:\n",
    "    print(\"Keine der Fälle tritt ein.\")"
   ]
  },
  {
   "cell_type": "markdown",
   "metadata": {},
   "source": [
    "[Zum Menü](#0)"
   ]
  },
  {
   "cell_type": "markdown",
   "metadata": {},
   "source": [
    "### Boolsche Gesetze (Auszug)\n",
    "Hier ein sehr Auszug von Boolschen Gesetzen\n",
    "* Kommutativgesetz: a and b = b and a - - - - - a or b = b or a\n",
    "* Assoziationsgesetz: (a and b) and c = a and (b and c) - - - - (a or b) or c = a or (b or c)\n",
    "* Distributivgesetz: a and (b or c) = (a and b) or (a and c) - - - a or (b and c) = (a or b) and (a or c)"
   ]
  },
  {
   "cell_type": "markdown",
   "metadata": {},
   "source": [
    "## Vergleichsoperatoren\n",
    "Zu den elementaren Vergleichsoperatoren zählen:\n",
    "* a gleich b: a == b\n",
    "* a ungleich b: a != b\n",
    "* a größer b: a > b\n",
    "* a kleiner b: a < b\n",
    "* a größer gleich b: a >= b\n",
    "* a kleiner gleich b: a <= b"
   ]
  },
  {
   "cell_type": "code",
   "execution_count": 21,
   "metadata": {},
   "outputs": [
    {
     "name": "stdout",
     "output_type": "stream",
     "text": [
      "2 ist kleiner als 5\n"
     ]
    }
   ],
   "source": [
    "a = 2\n",
    "b = 5\n",
    "\n",
    "if a > b:\n",
    "    print(\"{} ist größer als {}\".format(a,b))\n",
    "else:\n",
    "    print(\"{} ist kleiner als {}\".format(a,b))"
   ]
  },
  {
   "cell_type": "code",
   "execution_count": 22,
   "metadata": {},
   "outputs": [
    {
     "name": "stdout",
     "output_type": "stream",
     "text": [
      "a ist gleich 2.\n"
     ]
    }
   ],
   "source": [
    "if a == 1:\n",
    "    print(\"a ist gleich 1.\")\n",
    "elif a == 2:\n",
    "    print(\"a ist gleich 2.\")\n",
    "else:\n",
    "    print(\"a ist weder 1 noch 2.\")"
   ]
  },
  {
   "cell_type": "markdown",
   "metadata": {},
   "source": [
    "[Zum Menü](#0)"
   ]
  },
  {
   "cell_type": "markdown",
   "metadata": {},
   "source": [
    "### Beispielprojekt 3\n",
    "Meine T-Shirts sind bunt. Vorzugsweise die Farben rot, blau oder gelb. Entweder ist ein T-Shirt einfarbig, zweifarbig oder dreifarbig. Ein Programm soll anhand der Boolschen Variablen red, blue, yellow bewerten mit wie vielen Zahlen die T-Shirts bedruckt sind."
   ]
  },
  {
   "cell_type": "code",
   "execution_count": 23,
   "metadata": {},
   "outputs": [
    {
     "name": "stdout",
     "output_type": "stream",
     "text": [
      "Das T-Shirt ist mit 1 Farben bedruckt.\n"
     ]
    }
   ],
   "source": [
    "red = True\n",
    "blue = False\n",
    "yellow = False\n",
    "\n",
    "if red and blue and yellow:\n",
    "    colorCount = 3\n",
    "elif (red and blue) or (red and yellow) or (blue and yellow):\n",
    "    colorCount = 2\n",
    "else:\n",
    "    colorCount = 1\n",
    "    \n",
    "print(\"Das T-Shirt ist mit {} Farben bedruckt.\".format(colorCount))"
   ]
  },
  {
   "cell_type": "markdown",
   "metadata": {},
   "source": [
    "### Beispielprojekt 4\n",
    "Ein Computer kostet 400€. Ein Programm soll bewerten, ob genug Geld vorhanden ist um ihn zu kaufen. Wenn nicht genug Geld vorhanden ist, soll zusätzlich der Differenzbetrag bestimmt werden.\n",
    "\n",
    "Die Abfragen sollen in unterschiedlichen if Strukturen stattfinden."
   ]
  },
  {
   "cell_type": "code",
   "execution_count": 24,
   "metadata": {},
   "outputs": [
    {
     "name": "stdout",
     "output_type": "stream",
     "text": [
      "Super! Es ist genug Geld vorhanden. Viel Spaß beim Kauf.\n"
     ]
    }
   ],
   "source": [
    "computerPrice = 400\n",
    "actualMoney = 500\n",
    "\n",
    "if actualMoney >= computerPrice:\n",
    "    newComputer = True\n",
    "else:\n",
    "    missingMoney = computerPrice - actualMoney\n",
    "    newComputer = False\n",
    "    \n",
    "if newComputer:\n",
    "    print(\"Super! Es ist genug Geld vorhanden. Viel Spaß beim Kauf.\")\n",
    "    \n",
    "else:\n",
    "    if missingMoney > 1:\n",
    "        print(\"Schade. Leider fehlen {} Euro,\".format(missingMoney))\n",
    "    else:\n",
    "        print(\"Schade. Leider fehlen {} Euro,\".format(missingMoney))"
   ]
  },
  {
   "cell_type": "markdown",
   "metadata": {},
   "source": [
    "[Zum Menü](#0)"
   ]
  },
  {
   "cell_type": "markdown",
   "metadata": {},
   "source": [
    "### Übungsaufgabe 2\n",
    "Das berühmte Spiel Stein / Schere / Papier soll programmiert werden. Hierzu werden zwei Variablen timChoice, anneChoice festgelegt. Die Regeln für den Sieger werden in einer if else Struktur anschließend abgefragt. Am Ende wird ermittelt, wer von beiden gewonnen hat."
   ]
  },
  {
   "cell_type": "code",
   "execution_count": 25,
   "metadata": {},
   "outputs": [
    {
     "name": "stdout",
     "output_type": "stream",
     "text": [
      "Result: Anne wins\n"
     ]
    }
   ],
   "source": [
    "timChoice = \"Stone\"\n",
    "anneChoice = \"Paper\"\n",
    "\n",
    "if timChoice == anneChoice:\n",
    "    Tim,Anne = True,True\n",
    "elif (timChoice == \"Stone\" and anneChoice == \"Paper\") or (timChoice == \"Paper\" and anneChoice == \"Scissors\") or (timChoice == \"Scissors\" and anneChoice == \"Stone\"):\n",
    "    Tim,Anne = False,True\n",
    "else:\n",
    "    Tim,Anne = True, False\n",
    "    \n",
    "if Tim and Anne:\n",
    "    result = \"darwn\"\n",
    "    \n",
    "elif Tim:\n",
    "    result = \"Tim wins\"\n",
    "    \n",
    "else:\n",
    "    result = \"Anne wins\"\n",
    "    \n",
    "print(\"Result: {}\".format(result))"
   ]
  },
  {
   "cell_type": "markdown",
   "metadata": {},
   "source": [
    "[Zum Menü](#0)"
   ]
  },
  {
   "cell_type": "markdown",
   "metadata": {},
   "source": [
    "<a id=\"10\"></a>\n",
    "# Listen\n",
    "Eine Liste kann als Speicher von wiederkehrenden unterschiedlichen Elementen gesehen werden. Die Einträge werden kommasepariert und sind nicht typisiert. In Python muss innerhalb einer Liste keine homogene Typisierung existieren.\n",
    "\n",
    "Listen sind nullindiziert. Das bedeutet: Der für uns erste Eintrag ist für die Liste der nullte. Entsprechend der zweite ist der erste...\n",
    "\n",
    "Besonders toll: Eine Liste kann man mit print komplett ausgeben!"
   ]
  },
  {
   "cell_type": "code",
   "execution_count": 5,
   "metadata": {},
   "outputs": [
    {
     "name": "stdout",
     "output_type": "stream",
     "text": [
      "[1, 2, 3, 4]\n"
     ]
    }
   ],
   "source": [
    "first_list = [1,2,3,4]\n",
    "print(first_list)"
   ]
  },
  {
   "cell_type": "code",
   "execution_count": null,
   "metadata": {},
   "outputs": [],
   "source": []
  }
 ],
 "metadata": {
  "kernelspec": {
   "display_name": "Python 3",
   "language": "python",
   "name": "python3"
  },
  "language_info": {
   "codemirror_mode": {
    "name": "ipython",
    "version": 3
   },
   "file_extension": ".py",
   "mimetype": "text/x-python",
   "name": "python",
   "nbconvert_exporter": "python",
   "pygments_lexer": "ipython3",
   "version": "3.7.3"
  }
 },
 "nbformat": 4,
 "nbformat_minor": 2
}
